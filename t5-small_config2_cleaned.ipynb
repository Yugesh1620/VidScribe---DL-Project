{
  "cells": [
    {
      "cell_type": "code",
      "execution_count": 1,
      "metadata": {
        "colab": {
          "base_uri": "https://localhost:8080/"
        },
        "execution": {
          "iopub.execute_input": "2024-12-18T18:22:01.264675Z",
          "iopub.status.busy": "2024-12-18T18:22:01.264404Z",
          "iopub.status.idle": "2024-12-18T18:23:05.358705Z",
          "shell.execute_reply": "2024-12-18T18:23:05.357686Z",
          "shell.execute_reply.started": "2024-12-18T18:22:01.264645Z"
        },
        "id": "TdRvd2-WvMGD",
        "outputId": "8bd22c9d-8c4f-4183-940d-87f46539b6f4",
        "trusted": true
      },
      "outputs": [
        {
          "name": "stdout",
          "output_type": "stream",
          "text": [
            "\u001b[2K     \u001b[90m\u2501\u2501\u2501\u2501\u2501\u2501\u2501\u2501\u2501\u2501\u2501\u2501\u2501\u2501\u2501\u2501\u2501\u2501\u2501\u2501\u2501\u2501\u2501\u2501\u2501\u2501\u2501\u2501\u2501\u2501\u2501\u2501\u2501\u2501\u2501\u2501\u2501\u2501\u2501\u2501\u001b[0m \u001b[32m44.1/44.1 kB\u001b[0m \u001b[31m3.9 MB/s\u001b[0m eta \u001b[36m0:00:00\u001b[0m\n",
            "\u001b[2K   \u001b[90m\u2501\u2501\u2501\u2501\u2501\u2501\u2501\u2501\u2501\u2501\u2501\u2501\u2501\u2501\u2501\u2501\u2501\u2501\u2501\u2501\u2501\u2501\u2501\u2501\u2501\u2501\u2501\u2501\u2501\u2501\u2501\u2501\u2501\u2501\u2501\u2501\u2501\u2501\u2501\u2501\u001b[0m \u001b[32m10.1/10.1 MB\u001b[0m \u001b[31m101.2 MB/s\u001b[0m eta \u001b[36m0:00:00\u001b[0m\n",
            "\u001b[2K   \u001b[90m\u2501\u2501\u2501\u2501\u2501\u2501\u2501\u2501\u2501\u2501\u2501\u2501\u2501\u2501\u2501\u2501\u2501\u2501\u2501\u2501\u2501\u2501\u2501\u2501\u2501\u2501\u2501\u2501\u2501\u2501\u2501\u2501\u2501\u2501\u2501\u2501\u2501\u2501\u2501\u2501\u001b[0m \u001b[32m44.8/44.8 kB\u001b[0m \u001b[31m3.9 MB/s\u001b[0m eta \u001b[36m0:00:00\u001b[0m\n",
            "\u001b[2K   \u001b[90m\u2501\u2501\u2501\u2501\u2501\u2501\u2501\u2501\u2501\u2501\u2501\u2501\u2501\u2501\u2501\u2501\u2501\u2501\u2501\u2501\u2501\u2501\u2501\u2501\u2501\u2501\u2501\u2501\u2501\u2501\u2501\u2501\u2501\u2501\u2501\u2501\u2501\u2501\u2501\u2501\u001b[0m \u001b[32m480.6/480.6 kB\u001b[0m \u001b[31m34.8 MB/s\u001b[0m eta \u001b[36m0:00:00\u001b[0m\n",
            "\u001b[2K   \u001b[90m\u2501\u2501\u2501\u2501\u2501\u2501\u2501\u2501\u2501\u2501\u2501\u2501\u2501\u2501\u2501\u2501\u2501\u2501\u2501\u2501\u2501\u2501\u2501\u2501\u2501\u2501\u2501\u2501\u2501\u2501\u2501\u2501\u2501\u2501\u2501\u2501\u2501\u2501\u2501\u2501\u001b[0m \u001b[32m116.3/116.3 kB\u001b[0m \u001b[31m14.0 MB/s\u001b[0m eta \u001b[36m0:00:00\u001b[0m\n",
            "\u001b[2K   \u001b[90m\u2501\u2501\u2501\u2501\u2501\u2501\u2501\u2501\u2501\u2501\u2501\u2501\u2501\u2501\u2501\u2501\u2501\u2501\u2501\u2501\u2501\u2501\u2501\u2501\u2501\u2501\u2501\u2501\u2501\u2501\u2501\u2501\u2501\u2501\u2501\u2501\u2501\u2501\u2501\u2501\u001b[0m \u001b[32m179.3/179.3 kB\u001b[0m \u001b[31m19.0 MB/s\u001b[0m eta \u001b[36m0:00:00\u001b[0m\n",
            "\u001b[2K   \u001b[90m\u2501\u2501\u2501\u2501\u2501\u2501\u2501\u2501\u2501\u2501\u2501\u2501\u2501\u2501\u2501\u2501\u2501\u2501\u2501\u2501\u2501\u2501\u2501\u2501\u2501\u2501\u2501\u2501\u2501\u2501\u2501\u2501\u2501\u2501\u2501\u2501\u2501\u2501\u2501\u2501\u001b[0m \u001b[32m134.8/134.8 kB\u001b[0m \u001b[31m17.0 MB/s\u001b[0m eta \u001b[36m0:00:00\u001b[0m\n",
            "\u001b[2K   \u001b[90m\u2501\u2501\u2501\u2501\u2501\u2501\u2501\u2501\u2501\u2501\u2501\u2501\u2501\u2501\u2501\u2501\u2501\u2501\u2501\u2501\u2501\u2501\u2501\u2501\u2501\u2501\u2501\u2501\u2501\u2501\u2501\u2501\u2501\u2501\u2501\u2501\u2501\u2501\u2501\u2501\u001b[0m \u001b[32m194.1/194.1 kB\u001b[0m \u001b[31m20.2 MB/s\u001b[0m eta \u001b[36m0:00:00\u001b[0m\n",
            "\u001b[?25h\u001b[31mERROR: pip's dependency resolver does not currently take into account all the packages that are installed. This behaviour is the source of the following dependency conflicts.\n",
            "gcsfs 2024.10.0 requires fsspec==2024.10.0, but you have fsspec 2024.9.0 which is incompatible.\u001b[0m\u001b[31m\n",
            "\u001b[0m  Preparing metadata (setup.py) ... \u001b[?25l\u001b[?25hdone\n",
            "  Building wheel for clip (setup.py) ... \u001b[?25l\u001b[?25hdone\n"
          ]
        }
      ],
      "source": [
        "# PIP Install \n",
        "!pip install -q --upgrade transformers\n",
        "!pip install -q sentencepiece ftfy regex tqdm opencv-python-headless datasets\n",
        "!pip install -q git+https://github.com/openai/CLIP.git\n",
        "!pip install -q torch torchvision torchaudio\n",
        "!pip install -q accelerate"
      ]
    },
    {
      "cell_type": "code",
      "execution_count": 2,
      "metadata": {
        "execution": {
          "iopub.execute_input": "2024-12-18T18:24:23.988868Z",
          "iopub.status.busy": "2024-12-18T18:24:23.988468Z",
          "iopub.status.idle": "2024-12-18T18:24:23.994398Z",
          "shell.execute_reply": "2024-12-18T18:24:23.993414Z",
          "shell.execute_reply.started": "2024-12-18T18:24:23.988836Z"
        },
        "id": "vBWa_J3gjehY",
        "trusted": true
      },
      "outputs": [],
      "source": [
        "import cv2\n",
        "from PIL import Image\n",
        "from tqdm import tqdm\n",
        "import numpy as np\n",
        "import pandas as pd\n",
        "import os\n",
        "import torch\n",
        "import time\n",
        "import clip\n",
        "from torchvision.transforms import Compose, Resize, CenterCrop, ToTensor, Normalize\n",
        "from datasets import load_dataset\n",
        "from torch.utils.data import Dataset, DataLoader\n",
        "from torch import nn\n",
        "from transformers import T5Tokenizer, T5ForConditionalGeneration\n",
        "from accelerate import Accelerator"
      ]
    },
    {
      "cell_type": "code",
      "execution_count": 4,
      "metadata": {
        "colab": {
          "base_uri": "https://localhost:8080/"
        },
        "id": "TedqrTC4kNZ0",
        "outputId": "c979b827-3945-4e2b-cf96-f108361c3d1e"
      },
      "outputs": [
        {
          "name": "stdout",
          "output_type": "stream",
          "text": [
            "Dataset URL: https://www.kaggle.com/datasets/vishnutheepb/msrvtt\n",
            "License(s): unknown\n",
            "Downloading msrvtt.zip to /content/msrvtt_videos\n",
            "100% 4.26G/4.26G [03:14<00:00, 23.8MB/s]\n",
            "100% 4.26G/4.26G [03:14<00:00, 23.5MB/s]\n"
          ]
        }
      ],
      "source": [
        "!kaggle datasets download -d vishnutheepb/msrvtt -p /content/msrvtt_videos --unzip"
      ]
    },
    {
      "cell_type": "code",
      "execution_count": 6,
      "metadata": {
        "execution": {
          "iopub.execute_input": "2024-12-18T18:23:32.816377Z",
          "iopub.status.busy": "2024-12-18T18:23:32.815818Z",
          "iopub.status.idle": "2024-12-18T18:23:32.830256Z",
          "shell.execute_reply": "2024-12-18T18:23:32.829440Z",
          "shell.execute_reply.started": "2024-12-18T18:23:32.816344Z"
        },
        "id": "R8sDMlcwvSXn",
        "trusted": true
      },
      "outputs": [],
      "source": [
        "\n",
        "video_dir = \"/content/msrvtt_videos/TrainValVideo\"\n",
        "\n",
        "if not os.path.exists(video_dir):\n",
        "    raise ValueError(f\"Video directory {video_dir} does not exist.\")\n",
        "\n",
        "# Frame extraction \n",
        "def extract_frames(video_path, num_frames=16, resize=(224, 224)):\n",
        "    cap = cv2.VideoCapture(video_path)\n",
        "    total_frames = int(cap.get(cv2.CAP_PROP_FRAME_COUNT))\n",
        "    if total_frames < num_frames:\n",
        "        raise ValueError(f\"Video {video_path} has only {total_frames} frames, which is less than the required {num_frames} frames.\")\n",
        "    frame_indices = np.linspace(0, total_frames - 1, num_frames, dtype=int)\n",
        "    frames = []\n",
        "    for idx in frame_indices:\n",
        "        cap.set(cv2.CAP_PROP_POS_FRAMES, idx)\n",
        "        ret, frame = cap.read()\n",
        "        if ret:\n",
        "            frame = cv2.cvtColor(frame, cv2.COLOR_BGR2RGB)\n",
        "            frame = Image.fromarray(frame).resize(resize)\n",
        "            frames.append(frame)\n",
        "    cap.release()\n",
        "    if len(frames) != num_frames:\n",
        "        raise ValueError(f\"Expected {num_frames} frames, but got {len(frames)} from {video_path}\")\n",
        "    return frames\n"
      ]
    },
    {
      "cell_type": "code",
      "execution_count": 7,
      "metadata": {
        "colab": {
          "base_uri": "https://localhost:8080/"
        },
        "execution": {
          "iopub.execute_input": "2024-12-18T18:23:32.831722Z",
          "iopub.status.busy": "2024-12-18T18:23:32.831386Z",
          "iopub.status.idle": "2024-12-18T18:23:41.244515Z",
          "shell.execute_reply": "2024-12-18T18:23:41.243552Z",
          "shell.execute_reply.started": "2024-12-18T18:23:32.831685Z"
        },
        "id": "CFt62yzkvS4u",
        "outputId": "92fe7825-05a3-49c4-a952-478bae24b7a1",
        "trusted": true
      },
      "outputs": [
        {
          "name": "stderr",
          "output_type": "stream",
          "text": [
            "100%|\u2588\u2588\u2588\u2588\u2588\u2588\u2588\u2588\u2588\u2588\u2588\u2588\u2588\u2588\u2588\u2588\u2588\u2588\u2588\u2588\u2588\u2588\u2588\u2588\u2588\u2588\u2588\u2588\u2588\u2588\u2588\u2588\u2588\u2588\u2588\u2588\u2588\u2588\u2588\u2588| 338M/338M [00:02<00:00, 131MiB/s]\n"
          ]
        }
      ],
      "source": [
        "\n",
        "device = \"cuda\" if torch.cuda.is_available() else \"cpu\"\n",
        "\n",
        "#  CLIP model\n",
        "clip_model, preprocess = clip.load(\"ViT-B/32\", device=device)\n",
        "\n",
        "# Ensure CLIP model is in float32\n",
        "clip_model = clip_model.float()\n",
        "\n",
        "# Preprocessing\n",
        "preprocess = Compose([\n",
        "    Resize(224, interpolation=Image.BICUBIC),\n",
        "    CenterCrop(224),\n",
        "    ToTensor(),\n",
        "    Normalize(mean=(0.48145466, 0.4578275, 0.40821073),\n",
        "              std=(0.26862954, 0.26130258, 0.27577711)),\n",
        "])\n",
        "\n",
        "# Extract features \n",
        "def extract_video_features(video_path, num_frames=16):\n",
        "    frames = extract_frames(video_path, num_frames=num_frames)\n",
        "    frame_tensors = torch.stack([preprocess(frame) for frame in frames]).to(device)\n",
        "    with torch.no_grad():\n",
        "        image_features = clip_model.encode_image(frame_tensors) \n",
        "        video_features = image_features.mean(dim=0) \n",
        "    return video_features.float()  "
      ]
    },
    {
      "cell_type": "code",
      "execution_count": 8,
      "metadata": {
        "colab": {
          "base_uri": "https://localhost:8080/",
          "height": 590,
          "referenced_widgets": [
            "9daad160d88e4867b7848e46e64eb0c8",
            "1b9bddd06c4c46e78525a3e046906109",
            "8524d5629eb4461e930a471c551367d5",
            "b745f76f51ec4599a0cddcfad4f5382c",
            "3dbd49e5029a420ea087137a494ed98d",
            "8c89565a01cc4975995d3a2ea93ca551",
            "f42ebed0c34448a18ff7295b852a422e",
            "33ad8fb5d3d14eaeb0dd688ac462222a",
            "be9b96236a3e4821b1268e24692d9e6f",
            "a047be04f8264582929f3bca7654fde5",
            "c80229e35faa48af8c3e4beab0bc77ad",
            "dc02729e0b8c486b8e718584840b242c",
            "10c8693e94094e77bfe415dc3626f5b2",
            "86cb9dc2fbc24d048ac05af447728a4c",
            "959d4c45e71f4819804a854b5e17b5a2",
            "17a9606b07364f67b8f176e1af390e96",
            "2fbe51dfba4943f982fcbe7436854642",
            "fe1829a6b7be4033a7bce4176f2b3282",
            "6124312bfe9a4480a8f37169b90c690b",
            "ae77bdba996f48578c5c869be074d18d",
            "74ae999511914894a065e43e2871da47",
            "91f2e4269fb54e1aa0b30e924d12b8e3",
            "35e36e4fd972472eaf104a1fcdfd567e",
            "b5945630048b4409be08b87dc7e3faac",
            "aa1ea0f67db74a31bfedbc4269d5e3a8",
            "0b058529f0694a28a9461fc2e6d316fb",
            "ca4f985cb6ef43459e1a5e5df77c7c78",
            "699d082cccc74ffe918ab8c51f1489ab",
            "efd63a50d2fb49fda0a8dd33de949621",
            "78c25874b8e243f9be3911d947677a8a",
            "198f4129f1ad4fd8a3e855dd45166528",
            "f65cbf3a168640b8a75ce7d49dbaa1a5",
            "7ae10a6918f643a494c3b10e552607b1",
            "17d6814eba46409ba5e3d942f5a0be30",
            "e041d5f0573c4851b3a05c2125c463a4",
            "a67742c8f3574c729818e5e083d390d4",
            "3b4d52994caf4dd583856acce58b02a3",
            "b381ba2ab36043c0afd039f606dd5d78",
            "3494d58d2a654919a082d30b0cb46064",
            "a325acf5149e46e5a5047f8f73fb96cf",
            "be2f38f25e2e4fdfa29b08562bdd7a1c",
            "228f0381a7e4412d8f3a0fe346608202",
            "e1935d9d5e2448bbb6e0e16d0d2db30f",
            "7ab8466b34cd46cc8ef4298010572f55",
            "1b1f99aa35c14f1d893ed4836dbf75e0",
            "7d15dffffea24d24b6d350f281bc702c",
            "5879dbeec84340c9a76de9068780a6e0",
            "ccaac72067814a50b3305ac273260e85",
            "9b491f64c6fa457688f28415144dc85e",
            "a924a11fd5754f6b985917cceaee8baf",
            "602ac9618d5b46599557c3a6c641234d",
            "66051636b6fa432982dc6b2836316724",
            "6f298197dcf244e0ab6f374e42ca6094",
            "aff9e7de06f74bef87b191f557d543e7",
            "e02aa60a4bb84d70a78ad2d614f6bb94"
          ]
        },
        "execution": {
          "iopub.execute_input": "2024-12-18T18:23:41.246007Z",
          "iopub.status.busy": "2024-12-18T18:23:41.245728Z",
          "iopub.status.idle": "2024-12-18T18:24:09.714053Z",
          "shell.execute_reply": "2024-12-18T18:24:09.713045Z",
          "shell.execute_reply.started": "2024-12-18T18:23:41.245980Z"
        },
        "id": "qaJJVvV4vWfQ",
        "outputId": "4a33480d-91a9-461c-fed6-0d49b2198ae6",
        "trusted": true
      },
      "outputs": [
        {
          "name": "stdout",
          "output_type": "stream",
          "text": [
            "Loading dataset...\n"
          ]
        },
        {
          "name": "stderr",
          "output_type": "stream",
          "text": [
            "/usr/local/lib/python3.10/dist-packages/huggingface_hub/utils/_auth.py:94: UserWarning: \n",
            "The secret `HF_TOKEN` does not exist in your Colab secrets.\n",
            "To authenticate with the Hugging Face Hub, create a token in your settings tab (https://huggingface.co/settings/tokens), set it as secret in your Google Colab and restart your session.\n",
            "You will be able to reuse this secret in all of your notebooks.\n",
            "Please note that authentication is recommended but still optional to access public models or datasets.\n",
            "  warnings.warn(\n"
          ]
        },
        {
          "data": {
            "application/vnd.jupyter.widget-view+json": {
              "model_id": "9daad160d88e4867b7848e46e64eb0c8",
              "version_major": 2,
              "version_minor": 0
            },
            "text/plain": [
              "README.md:   0%|          | 0.00/734 [00:00<?, ?B/s]"
            ]
          },
          "metadata": {},
          "output_type": "display_data"
        },
        {
          "data": {
            "application/vnd.jupyter.widget-view+json": {
              "model_id": "dc02729e0b8c486b8e718584840b242c",
              "version_major": 2,
              "version_minor": 0
            },
            "text/plain": [
              "(\u2026)-00000-of-00001-60e50ff5fbbd1bb5.parquet:   0%|          | 0.00/553k [00:00<?, ?B/s]"
            ]
          },
          "metadata": {},
          "output_type": "display_data"
        },
        {
          "data": {
            "application/vnd.jupyter.widget-view+json": {
              "model_id": "35e36e4fd972472eaf104a1fcdfd567e",
              "version_major": 2,
              "version_minor": 0
            },
            "text/plain": [
              "(\u2026)-00000-of-00001-01bacdd7064306bc.parquet:   0%|          | 0.00/44.8k [00:00<?, ?B/s]"
            ]
          },
          "metadata": {},
          "output_type": "display_data"
        },
        {
          "data": {
            "application/vnd.jupyter.widget-view+json": {
              "model_id": "17d6814eba46409ba5e3d942f5a0be30",
              "version_major": 2,
              "version_minor": 0
            },
            "text/plain": [
              "Generating train split:   0%|          | 0/6513 [00:00<?, ? examples/s]"
            ]
          },
          "metadata": {},
          "output_type": "display_data"
        },
        {
          "data": {
            "application/vnd.jupyter.widget-view+json": {
              "model_id": "1b1f99aa35c14f1d893ed4836dbf75e0",
              "version_major": 2,
              "version_minor": 0
            },
            "text/plain": [
              "Generating val split:   0%|          | 0/497 [00:00<?, ? examples/s]"
            ]
          },
          "metadata": {},
          "output_type": "display_data"
        },
        {
          "name": "stdout",
          "output_type": "stream",
          "text": [
            "video path: 0         /content/msrvtt_videos/TrainValVideo/video0.mp4\n",
            "1         /content/msrvtt_videos/TrainValVideo/video1.mp4\n",
            "2        /content/msrvtt_videos/TrainValVideo/video10.mp4\n",
            "3       /content/msrvtt_videos/TrainValVideo/video100.mp4\n",
            "4       /content/msrvtt_videos/TrainValVideo/video1000...\n",
            "                              ...                        \n",
            "6508    /content/msrvtt_videos/TrainValVideo/video995.mp4\n",
            "6509    /content/msrvtt_videos/TrainValVideo/video996.mp4\n",
            "6510    /content/msrvtt_videos/TrainValVideo/video997.mp4\n",
            "6511    /content/msrvtt_videos/TrainValVideo/video998.mp4\n",
            "6512    /content/msrvtt_videos/TrainValVideo/video999.mp4\n",
            "Name: video_path, Length: 6513, dtype: object\n",
            "Total samples: 6513\n",
            "Training samples: 5210, Testing samples: 1303\n",
            "Training samples: 1000, Testing samples: 100\n"
          ]
        }
      ],
      "source": [
        "# MSR-VTT dataset\n",
        "print(\"Loading dataset...\")\n",
        "dataset = load_dataset(\"AlexZigma/msr-vtt\", split=\"train\")\n",
        "\n",
        "captions_df = pd.DataFrame(dataset)\n",
        "captions_df = captions_df[['video_id', 'caption']]\n",
        "\n",
        "\n",
        "captions_df['video_path'] = captions_df['video_id'].apply(lambda x: os.path.join(video_dir, f\"{x}.mp4\"))\n",
        "print(f\"video path: {captions_df['video_path']}\")\n",
        "\n",
        "captions_df = captions_df[captions_df['video_path'].apply(os.path.exists)].reset_index(drop=True)\n",
        "\n",
        "print(f\"Total samples: {len(captions_df)}\")\n",
        "\n",
        "train_size = int(0.8 * len(captions_df))\n",
        "train_captions_df = captions_df.iloc[:train_size]\n",
        "test_captions_df = captions_df.iloc[train_size:]\n",
        "print(f\"Training samples: {len(train_captions_df)}, Testing samples: {len(test_captions_df)}\")\n",
        "\n",
        "train_captions_df = train_captions_df.sample(n=1000).reset_index(drop=True)\n",
        "test_captions_df = test_captions_df.sample(n=100).reset_index(drop=True)\n",
        "print(f\"Training samples: {len(train_captions_df)}, Testing samples: {len(test_captions_df)}\")"
      ]
    },
    {
      "cell_type": "code",
      "execution_count": 9,
      "metadata": {
        "colab": {
          "base_uri": "https://localhost:8080/",
          "height": 283,
          "referenced_widgets": [
            "7f9fad5afa174abdac7f3f540b94f5fe",
            "a7b34d16a04d490abf756dcc1178f9f4",
            "b088317845664c469198ccee0368ee5f",
            "4fd4b18f18d8434bb67393a7245d1ed6",
            "ec342469f8084d1c8742100ea77a027a",
            "7ccc4dbda0dd49cb81edbdaf18641a47",
            "e18ebe2bc24045aa9bbf760f814c4a82",
            "63206bcddd7f4153a52c63c67eca839d",
            "91f2c6d27a124b8093d48a31d75adb13",
            "da3098e5c70e4b028b6bf95be6c5f247",
            "5effe4b1889545f68e5d7eddf81e7348",
            "ac956df8b0824e02a12f8fc14f043471",
            "3775a90626d3449c8215b8f4633a1bf1",
            "965164f268594c91ae052cedc53376ec",
            "140a22f2c7254e219f5adcd4807ea5ab",
            "6cf19d04a8d747cb8100a32eea7af381",
            "a923ff0b4eaf411e83090a1317afc7c7",
            "75215cbd747c4bfab437c9264cf98de7",
            "ce23c221f023402cb39fc055a53db622",
            "a09fb4d25f3f4848a5ffc7132477c698",
            "ce65d828d39943afa6a5b75413faf67c",
            "10689470eec94a119d8acab87e142329",
            "34f6b4c5a8e54bde9915c187390310c8",
            "51ce84b4db1f4514b2304cf4e56cb68f",
            "9241d7275af5454dbe3c0661d066c55d",
            "a2924680f0014817869599a4ab2861e4",
            "4d2298aef12e49ae804edd159676dfb1",
            "efbacad31368484c930b718555d87831",
            "68bade00fddb4435bbeb5946e6262da4",
            "39687fc50b8643a59dd9cdcd890d47d4",
            "7754cd26729a4743a37399937f611d83",
            "6e25654fc58742439eb334ca1591cc53",
            "9ded3aa64d1e451c89925a40777a2208",
            "32e97b764c67482fa88bd53280ccc694",
            "ef6137e9611e4c3589fc43555a6fdab8",
            "77d27a83629d481f83bffdd12b2269ab",
            "9fb69116f9464703b033cca0c0aa6521",
            "ee731f7842ea44459f3bd21c0c55120b",
            "32339106348b41d9be993e2910a7643f",
            "35f781629a204f31b024583ba496298e",
            "81b3d391a1a648cd904eafc6457f00e9",
            "7916eb2234c9405ca929f79efe497c76",
            "bbed6ae3f6a94d65ad9a94f748370bed",
            "cfa575607b224d069689d4174ee6934f",
            "d4e2d1f60a9c4d39a18b55c03f6edc7a",
            "a0d5855c69de492b8903956768f8bc9b",
            "51ef83d3ad2848b08f263de6d6ee70ca",
            "d299c2d16e7e432b85fed0485a70cd90",
            "2ec3f14c9d96409a8bf6d4f7f33a032d",
            "d9a3548b97644569bf0a25397d5d00c9",
            "4e07cbebfbae45dca1ee738afc9ebe8c",
            "6c0b797fa8ea4cf6b06b53f8122d6156",
            "b49d521305a845829c5eef598b83951f",
            "fbb53211810c4ee680c698c863f84e48",
            "0e9075a2b589492bb1a8905e1575795a",
            "7ffbe0e7fe4c454ebf21974ced892351",
            "5f221732a8ac4e60bdc5684107b51aa0",
            "87aecb12128b4b2d95a2c688325ae37d",
            "1063e362106a44909cb4dca82022b040",
            "aab5e995d21840e9adafefd5360d6836",
            "0d23fc7232ca415ca7fe44f6fb3c37f5",
            "fa890963af0640b4ae2253c0779adcd6",
            "5ce011e9c27e418f8147d902ef75315e",
            "d003da94b219496db4550c42d8a1a7ee",
            "545a5ac341bd4212985c835a8991c260",
            "9820535fbc87457696b7058f92403505"
          ]
        },
        "execution": {
          "iopub.execute_input": "2024-12-18T18:24:09.716018Z",
          "iopub.status.busy": "2024-12-18T18:24:09.715719Z",
          "iopub.status.idle": "2024-12-18T18:24:14.235947Z",
          "shell.execute_reply": "2024-12-18T18:24:14.235040Z",
          "shell.execute_reply.started": "2024-12-18T18:24:09.715988Z"
        },
        "id": "-VPx0SO-vYXO",
        "outputId": "5f5d0be6-fca1-49c1-9a4e-00b965f07412",
        "trusted": true
      },
      "outputs": [
        {
          "data": {
            "application/vnd.jupyter.widget-view+json": {
              "model_id": "7f9fad5afa174abdac7f3f540b94f5fe",
              "version_major": 2,
              "version_minor": 0
            },
            "text/plain": [
              "tokenizer_config.json:   0%|          | 0.00/2.32k [00:00<?, ?B/s]"
            ]
          },
          "metadata": {},
          "output_type": "display_data"
        },
        {
          "data": {
            "application/vnd.jupyter.widget-view+json": {
              "model_id": "ac956df8b0824e02a12f8fc14f043471",
              "version_major": 2,
              "version_minor": 0
            },
            "text/plain": [
              "spiece.model:   0%|          | 0.00/792k [00:00<?, ?B/s]"
            ]
          },
          "metadata": {},
          "output_type": "display_data"
        },
        {
          "data": {
            "application/vnd.jupyter.widget-view+json": {
              "model_id": "34f6b4c5a8e54bde9915c187390310c8",
              "version_major": 2,
              "version_minor": 0
            },
            "text/plain": [
              "tokenizer.json:   0%|          | 0.00/1.39M [00:00<?, ?B/s]"
            ]
          },
          "metadata": {},
          "output_type": "display_data"
        },
        {
          "name": "stderr",
          "output_type": "stream",
          "text": [
            "You are using the default legacy behaviour of the <class 'transformers.models.t5.tokenization_t5.T5Tokenizer'>. This is expected, and simply means that the `legacy` (previous) behavior will be used so nothing changes for you. If you want to use the new behaviour, set `legacy=False`. This should only be set if you understand what it means, and thoroughly read the reason why this was added as explained in https://github.com/huggingface/transformers/pull/24565\n"
          ]
        },
        {
          "data": {
            "application/vnd.jupyter.widget-view+json": {
              "model_id": "32e97b764c67482fa88bd53280ccc694",
              "version_major": 2,
              "version_minor": 0
            },
            "text/plain": [
              "config.json:   0%|          | 0.00/1.21k [00:00<?, ?B/s]"
            ]
          },
          "metadata": {},
          "output_type": "display_data"
        },
        {
          "data": {
            "application/vnd.jupyter.widget-view+json": {
              "model_id": "d4e2d1f60a9c4d39a18b55c03f6edc7a",
              "version_major": 2,
              "version_minor": 0
            },
            "text/plain": [
              "model.safetensors:   0%|          | 0.00/242M [00:00<?, ?B/s]"
            ]
          },
          "metadata": {},
          "output_type": "display_data"
        },
        {
          "data": {
            "application/vnd.jupyter.widget-view+json": {
              "model_id": "7ffbe0e7fe4c454ebf21974ced892351",
              "version_major": 2,
              "version_minor": 0
            },
            "text/plain": [
              "generation_config.json:   0%|          | 0.00/147 [00:00<?, ?B/s]"
            ]
          },
          "metadata": {},
          "output_type": "display_data"
        },
        {
          "name": "stderr",
          "output_type": "stream",
          "text": [
            "Passing a tuple of `past_key_values` is deprecated and will be removed in Transformers v4.48.0. You should pass an instance of `EncoderDecoderCache` instead, e.g. `past_key_values=EncoderDecoderCache.from_legacy_cache(past_key_values)`.\n"
          ]
        },
        {
          "name": "stdout",
          "output_type": "stream",
          "text": [
            "tensor(9.3223, device='cuda:0', grad_fn=<NllLossBackward0>)\n"
          ]
        }
      ],
      "source": [
        "\n",
        "device = \"cuda\" if torch.cuda.is_available() else \"cpu\"\n",
        "\n",
        "tokenizer = T5Tokenizer.from_pretrained(\"t5-small\")\n",
        "t5_model = T5ForConditionalGeneration.from_pretrained(\"t5-small\").to(device)\n",
        "\n",
        "t5_model = t5_model.float()\n",
        "\n",
        "class VideoCaptioningModel(nn.Module):\n",
        "    def __init__(self, clip_feature_dim, decoder_model, hidden_dim=512, seq_length=10):\n",
        "        super(VideoCaptioningModel, self).__init__()\n",
        "        self.decoder = decoder_model\n",
        "        self.linear = nn.Linear(clip_feature_dim, hidden_dim * seq_length)  \n",
        "        self.relu = nn.ReLU()\n",
        "        self.seq_length = seq_length\n",
        "        self.hidden_dim = hidden_dim\n",
        "   \n",
        "        self.proj = nn.Linear(hidden_dim * 2, hidden_dim)  \n",
        "\n",
        "    def forward(self, input_ids, attention_mask, video_features, labels=None):\n",
        "       \n",
        "        video_features = video_features.float()\n",
        "\n",
        "        mapped_features = self.relu(self.linear(video_features))  \n",
        "        # Reshaping\n",
        "        total_size = mapped_features.size(0) * self.seq_length * self.hidden_dim  \n",
        "        expected_size = mapped_features.numel()\n",
        "        if total_size != expected_size:\n",
        "            raise ValueError(f\"Shape mismatch: expected size {total_size}, but got {expected_size}\")\n",
        "\n",
        "       \n",
        "        batch_size = mapped_features.size(0)\n",
        "        mapped_features = mapped_features.view(batch_size, self.seq_length, self.hidden_dim)  \n",
        "\n",
        "        # Encoder attention mask\n",
        "        encoder_attention_mask = torch.ones(mapped_features.size()[:2], dtype=torch.long).to(device)\n",
        "\n",
        "        # Token embeddings\n",
        "        text_embeddings = self.decoder.get_input_embeddings()(input_ids) \n",
        "        \n",
        "        # Resize video embeddings\n",
        "        if mapped_features.size(1) != text_embeddings.size(1):\n",
        "            video_embeddings = torch.nn.functional.interpolate(\n",
        "                mapped_features.unsqueeze(0),\n",
        "                size=(text_embeddings.size(1), mapped_features.size(2))\n",
        "            ).squeeze(0)\n",
        "        else:\n",
        "            video_embeddings = mapped_features\n",
        "\n",
        "        # print(f\"Resized video embeddings: {video_embeddings.shape}\")\n",
        "\n",
        "        combined_embeddings = torch.cat((text_embeddings, video_embeddings), dim=-1)  \n",
        "        \n",
        "\n",
        "        \n",
        "        combined_embeddings = self.proj(combined_embeddings)  \n",
        "        \n",
        "\n",
        "        \n",
        "        updated_attention_mask = torch.ones(combined_embeddings.size()[:2], dtype=torch.long).to(device)\n",
        "        \n",
        "\n",
        "        \n",
        "        encoder_outputs = self.decoder.encoder(\n",
        "            inputs_embeds=combined_embeddings,  \n",
        "            attention_mask=updated_attention_mask  \n",
        "        )\n",
        "\n",
        "        # Pass encoder outputs to the decoder\n",
        "        decoder_outputs = self.decoder(\n",
        "            input_ids=input_ids,  \n",
        "            attention_mask=attention_mask,\n",
        "            encoder_outputs=encoder_outputs,  \n",
        "            labels=labels \n",
        "        )\n",
        "\n",
        "        return decoder_outputs\n",
        "\n",
        "\n",
        "# Initialization\n",
        "clip_feature_dim = 512 \n",
        "seq_length = 10  \n",
        "model = VideoCaptioningModel(clip_feature_dim=clip_feature_dim, decoder_model=t5_model, seq_length=seq_length).to(device)\n",
        "\n",
        "model = model.float()\n",
        "\n",
        "batch = {\n",
        "    'input_ids': tokenizer.encode(\"This is a sample caption.\", return_tensors=\"pt\").to(device),\n",
        "    'attention_mask': torch.ones(1, 20).to(device),  \n",
        "    'video_features': torch.randn(1, clip_feature_dim).to(device)  \n",
        "}\n",
        "\n",
        "# Forward pass with labels\n",
        "labels = batch['input_ids']\n",
        "outputs = model(\n",
        "    input_ids=batch['input_ids'],\n",
        "    attention_mask=batch['attention_mask'],\n",
        "    video_features=batch['video_features'],\n",
        "    labels=labels\n",
        ")\n",
        "\n",
        "print(outputs.loss)\n"
      ]
    },
    {
      "cell_type": "code",
      "execution_count": 10,
      "metadata": {
        "execution": {
          "iopub.execute_input": "2024-12-18T18:24:14.237723Z",
          "iopub.status.busy": "2024-12-18T18:24:14.237308Z",
          "iopub.status.idle": "2024-12-18T18:24:14.243037Z",
          "shell.execute_reply": "2024-12-18T18:24:14.241989Z",
          "shell.execute_reply.started": "2024-12-18T18:24:14.237680Z"
        },
        "id": "J6Hv29Q-vaiz",
        "trusted": true
      },
      "outputs": [],
      "source": [
        "max_length = 20  "
      ]
    },
    {
      "cell_type": "code",
      "execution_count": 14,
      "metadata": {
        "execution": {
          "iopub.execute_input": "2024-12-18T18:24:14.245192Z",
          "iopub.status.busy": "2024-12-18T18:24:14.244811Z",
          "iopub.status.idle": "2024-12-18T18:24:14.259645Z",
          "shell.execute_reply": "2024-12-18T18:24:14.258805Z",
          "shell.execute_reply.started": "2024-12-18T18:24:14.245161Z"
        },
        "id": "6LdYqpEXj42F",
        "trusted": true
      },
      "outputs": [],
      "source": [
        "'''\n",
        "New Dataset\n",
        "'''\n",
        "\n",
        "# from torch.utils.data import Dataset, DataLoader\n",
        "\n",
        "class VideoCaptionDataset(Dataset):\n",
        "    def __init__(self, captions_df, tokenizer, clip_model, device, num_frames=16, max_length=20):\n",
        "        self.captions_df = captions_df\n",
        "        self.tokenizer = tokenizer\n",
        "        self.clip_model = clip_model\n",
        "        self.device = device\n",
        "        self.num_frames = num_frames\n",
        "        self.max_length = max_length\n",
        "\n",
        "    def __len__(self):\n",
        "        return len(self.captions_df)\n",
        "\n",
        "    def __getitem__(self, idx):\n",
        "        video_path = self.captions_df.iloc[idx]['video_path']\n",
        "        caption = self.captions_df.iloc[idx]['caption']\n",
        "\n",
        "        # Extract video features\n",
        "        video_features = extract_video_features(video_path, num_frames=self.num_frames)  \n",
        "\n",
        "        # Tokenize the caption as labels (target output)\n",
        "        tokens = self.tokenizer(\n",
        "            caption,\n",
        "            max_length=self.max_length,\n",
        "            padding='max_length',\n",
        "            truncation=True,\n",
        "            return_tensors='pt'\n",
        "        )\n",
        "        labels = tokens.input_ids.squeeze(0)  \n",
        "\n",
        "        \n",
        "        input_ids = torch.tensor([[self.tokenizer.pad_token_id]], dtype=torch.long)\n",
        "        attention_mask = torch.ones_like(input_ids)\n",
        "\n",
        "        return {\n",
        "            'video_features': video_features,\n",
        "            'input_ids': input_ids.squeeze(0),\n",
        "            'attention_mask': attention_mask.squeeze(0),\n",
        "            'labels': labels\n",
        "        }\n",
        "\n",
        "# Datasets\n",
        "train_dataset = VideoCaptionDataset(train_captions_df, tokenizer, clip_model, device)\n",
        "test_dataset = VideoCaptionDataset(test_captions_df, tokenizer, clip_model, device)\n",
        "\n",
        "# Dataloaders\n",
        "train_dataloader = DataLoader(train_dataset, batch_size=16, shuffle=True)\n",
        "test_dataloader = DataLoader(test_dataset, batch_size=8, shuffle=False)\n"
      ]
    },
    {
      "cell_type": "code",
      "execution_count": 15,
      "metadata": {
        "colab": {
          "base_uri": "https://localhost:8080/"
        },
        "execution": {
          "iopub.execute_input": "2024-12-18T18:24:14.262311Z",
          "iopub.status.busy": "2024-12-18T18:24:14.261927Z",
          "iopub.status.idle": "2024-12-18T18:24:22.033888Z",
          "shell.execute_reply": "2024-12-18T18:24:22.032935Z",
          "shell.execute_reply.started": "2024-12-18T18:24:14.262247Z"
        },
        "id": "VR0GoYmLve75",
        "outputId": "552453de-0978-4338-d9fb-45de5cdcfb5c",
        "trusted": true
      },
      "outputs": [
        {
          "name": "stdout",
          "output_type": "stream",
          "text": [
            "Loss requires_grad: True\n",
            "Backward pass succeeded.\n"
          ]
        }
      ],
      "source": [
        "\n",
        "batch = next(iter(train_dataloader))\n",
        "\n",
        "video_features = batch['video_features'].to(device).float()\n",
        "\n",
        "input_ids = batch['input_ids'].to(device)\n",
        "attention_mask = batch['attention_mask'].to(device)\n",
        "labels = batch['input_ids'].to(device)  \n",
        "\n",
        "video_features = torch.autograd.Variable(video_features, requires_grad=True)\n",
        "\n",
        "# Forward pass\n",
        "model.train()\n",
        "outputs = model(\n",
        "    video_features=video_features,\n",
        "    input_ids=input_ids,\n",
        "    attention_mask=attention_mask,\n",
        "    labels=labels\n",
        ")\n",
        "\n",
        "# loss gradients\n",
        "loss = outputs.loss\n",
        "print(f\"Loss requires_grad: {loss.requires_grad}\")\n",
        "try:\n",
        "    loss.backward()\n",
        "    print(\"Backward pass succeeded.\")\n",
        "except Exception as e:\n",
        "    print(f\"Backward pass failed: {e}\")\n"
      ]
    },
    {
      "cell_type": "code",
      "execution_count": 16,
      "metadata": {
        "colab": {
          "base_uri": "https://localhost:8080/",
          "height": 1000
        },
        "execution": {
          "iopub.execute_input": "2024-12-18T18:26:14.774151Z",
          "iopub.status.busy": "2024-12-18T18:26:14.773650Z",
          "iopub.status.idle": "2024-12-18T20:51:29.416950Z",
          "shell.execute_reply": "2024-12-18T20:51:29.416047Z",
          "shell.execute_reply.started": "2024-12-18T18:26:14.774106Z"
        },
        "id": "a26FjJxSjeha",
        "outputId": "08c445a4-367a-4437-8fd8-837d29dd4f85",
        "trusted": true
      },
      "outputs": [
        {
          "name": "stdout",
          "output_type": "stream",
          "text": [
            "Epoch 1, Average Training Loss: 2.4605, Average Test Loss: 2.2661, Time Elapsed: 289.61 seconds\n",
            "Epoch 2, Average Training Loss: 2.2980, Average Test Loss: 2.2098, Time Elapsed: 289.12 seconds\n",
            "Epoch 3, Average Training Loss: 2.2040, Average Test Loss: 2.1830, Time Elapsed: 288.65 seconds\n",
            "Epoch 4, Average Training Loss: 2.1347, Average Test Loss: 2.1646, Time Elapsed: 288.59 seconds\n",
            "Epoch 5, Average Training Loss: 2.0735, Average Test Loss: 2.1579, Time Elapsed: 288.75 seconds\n",
            "Epoch 6, Average Training Loss: 2.0130, Average Test Loss: 2.1376, Time Elapsed: 288.15 seconds\n",
            "Epoch 7, Average Training Loss: 1.9454, Average Test Loss: 2.1247, Time Elapsed: 288.02 seconds\n",
            "Epoch 8, Average Training Loss: 1.8947, Average Test Loss: 2.0991, Time Elapsed: 287.87 seconds\n",
            "Epoch 9, Average Training Loss: 1.8405, Average Test Loss: 2.1042, Time Elapsed: 287.89 seconds\n",
            "Epoch 10, Average Training Loss: 1.7871, Average Test Loss: 2.1077, Time Elapsed: 288.50 seconds\n",
            "Epoch 11, Average Training Loss: 1.7436, Average Test Loss: 2.1011, Time Elapsed: 287.34 seconds\n",
            "Epoch 12, Average Training Loss: 1.6904, Average Test Loss: 2.1038, Time Elapsed: 288.16 seconds\n",
            "Epoch 13, Average Training Loss: 1.6600, Average Test Loss: 2.1084, Time Elapsed: 288.05 seconds\n",
            "Epoch 14, Average Training Loss: 1.6050, Average Test Loss: 2.1226, Time Elapsed: 288.11 seconds\n",
            "Epoch 15, Average Training Loss: 1.5591, Average Test Loss: 2.1337, Time Elapsed: 289.22 seconds\n",
            "Epoch 16, Average Training Loss: 1.5277, Average Test Loss: 2.1379, Time Elapsed: 289.46 seconds\n",
            "Epoch 17, Average Training Loss: 1.4795, Average Test Loss: 2.1757, Time Elapsed: 294.29 seconds\n",
            "Epoch 18, Average Training Loss: 1.4507, Average Test Loss: 2.1746, Time Elapsed: 293.03 seconds\n",
            "Epoch 19, Average Training Loss: 1.4008, Average Test Loss: 2.1862, Time Elapsed: 293.27 seconds\n",
            "Epoch 20, Average Training Loss: 1.3758, Average Test Loss: 2.2072, Time Elapsed: 293.97 seconds\n",
            "Epoch 21, Average Training Loss: 1.3362, Average Test Loss: 2.2299, Time Elapsed: 294.39 seconds\n",
            "Epoch 22, Average Training Loss: 1.2943, Average Test Loss: 2.2623, Time Elapsed: 293.35 seconds\n",
            "Epoch 23, Average Training Loss: 1.2609, Average Test Loss: 2.2723, Time Elapsed: 293.10 seconds\n",
            "Epoch 24, Average Training Loss: 1.2409, Average Test Loss: 2.2766, Time Elapsed: 293.53 seconds\n",
            "Epoch 25, Average Training Loss: 1.2056, Average Test Loss: 2.3128, Time Elapsed: 293.74 seconds\n",
            "Epoch 26, Average Training Loss: 1.1793, Average Test Loss: 2.3214, Time Elapsed: 293.38 seconds\n",
            "Epoch 27, Average Training Loss: 1.1394, Average Test Loss: 2.3605, Time Elapsed: 293.79 seconds\n",
            "Epoch 28, Average Training Loss: 1.1173, Average Test Loss: 2.3818, Time Elapsed: 293.22 seconds\n",
            "Epoch 29, Average Training Loss: 1.0916, Average Test Loss: 2.4007, Time Elapsed: 292.96 seconds\n",
            "Epoch 30, Average Training Loss: 1.0588, Average Test Loss: 2.4235, Time Elapsed: 293.13 seconds\n",
            "Epoch 31, Average Training Loss: 1.0336, Average Test Loss: 2.4482, Time Elapsed: 293.83 seconds\n",
            "Epoch 32, Average Training Loss: 1.0209, Average Test Loss: 2.4716, Time Elapsed: 294.14 seconds\n",
            "Epoch 33, Average Training Loss: 0.9962, Average Test Loss: 2.4829, Time Elapsed: 293.55 seconds\n",
            "Epoch 34, Average Training Loss: 0.9650, Average Test Loss: 2.4777, Time Elapsed: 293.91 seconds\n",
            "Epoch 35, Average Training Loss: 0.9381, Average Test Loss: 2.5290, Time Elapsed: 293.50 seconds\n",
            "Epoch 36, Average Training Loss: 0.9282, Average Test Loss: 2.5319, Time Elapsed: 293.22 seconds\n",
            "Epoch 37, Average Training Loss: 0.8915, Average Test Loss: 2.5563, Time Elapsed: 293.01 seconds\n"
          ]
        },
        {
          "ename": "KeyboardInterrupt",
          "evalue": "",
          "output_type": "error",
          "traceback": [
            "\u001b[0;31m---------------------------------------------------------------------------\u001b[0m",
            "\u001b[0;31mKeyboardInterrupt\u001b[0m                         Traceback (most recent call last)",
            "\u001b[0;32m<timed exec>\u001b[0m in \u001b[0;36m<module>\u001b[0;34m\u001b[0m\n",
            "\u001b[0;32m/usr/local/lib/python3.10/dist-packages/accelerate/data_loader.py\u001b[0m in \u001b[0;36m__iter__\u001b[0;34m(self)\u001b[0m\n\u001b[1;32m    561\u001b[0m                     \u001b[0mcurrent_batch\u001b[0m \u001b[0;34m=\u001b[0m \u001b[0msend_to_device\u001b[0m\u001b[0;34m(\u001b[0m\u001b[0mcurrent_batch\u001b[0m\u001b[0;34m,\u001b[0m \u001b[0mself\u001b[0m\u001b[0;34m.\u001b[0m\u001b[0mdevice\u001b[0m\u001b[0;34m,\u001b[0m \u001b[0mnon_blocking\u001b[0m\u001b[0;34m=\u001b[0m\u001b[0mself\u001b[0m\u001b[0;34m.\u001b[0m\u001b[0m_non_blocking\u001b[0m\u001b[0;34m)\u001b[0m\u001b[0;34m\u001b[0m\u001b[0;34m\u001b[0m\u001b[0m\n\u001b[1;32m    562\u001b[0m                 \u001b[0mself\u001b[0m\u001b[0;34m.\u001b[0m\u001b[0m_update_state_dict\u001b[0m\u001b[0;34m(\u001b[0m\u001b[0;34m)\u001b[0m\u001b[0;34m\u001b[0m\u001b[0;34m\u001b[0m\u001b[0m\n\u001b[0;32m--> 563\u001b[0;31m                 \u001b[0mnext_batch\u001b[0m \u001b[0;34m=\u001b[0m \u001b[0mnext\u001b[0m\u001b[0;34m(\u001b[0m\u001b[0mdataloader_iter\u001b[0m\u001b[0;34m)\u001b[0m\u001b[0;34m\u001b[0m\u001b[0;34m\u001b[0m\u001b[0m\n\u001b[0m\u001b[1;32m    564\u001b[0m                 \u001b[0;32mif\u001b[0m \u001b[0mbatch_index\u001b[0m \u001b[0;34m>=\u001b[0m \u001b[0mself\u001b[0m\u001b[0;34m.\u001b[0m\u001b[0mskip_batches\u001b[0m\u001b[0;34m:\u001b[0m\u001b[0;34m\u001b[0m\u001b[0;34m\u001b[0m\u001b[0m\n\u001b[1;32m    565\u001b[0m                     \u001b[0;32myield\u001b[0m \u001b[0mcurrent_batch\u001b[0m\u001b[0;34m\u001b[0m\u001b[0;34m\u001b[0m\u001b[0m\n",
            "\u001b[0;32m/usr/local/lib/python3.10/dist-packages/torch/utils/data/dataloader.py\u001b[0m in \u001b[0;36m__next__\u001b[0;34m(self)\u001b[0m\n\u001b[1;32m    699\u001b[0m                 \u001b[0;31m# TODO(https://github.com/pytorch/pytorch/issues/76750)\u001b[0m\u001b[0;34m\u001b[0m\u001b[0;34m\u001b[0m\u001b[0m\n\u001b[1;32m    700\u001b[0m                 \u001b[0mself\u001b[0m\u001b[0;34m.\u001b[0m\u001b[0m_reset\u001b[0m\u001b[0;34m(\u001b[0m\u001b[0;34m)\u001b[0m  \u001b[0;31m# type: ignore[call-arg]\u001b[0m\u001b[0;34m\u001b[0m\u001b[0;34m\u001b[0m\u001b[0m\n\u001b[0;32m--> 701\u001b[0;31m             \u001b[0mdata\u001b[0m \u001b[0;34m=\u001b[0m \u001b[0mself\u001b[0m\u001b[0;34m.\u001b[0m\u001b[0m_next_data\u001b[0m\u001b[0;34m(\u001b[0m\u001b[0;34m)\u001b[0m\u001b[0;34m\u001b[0m\u001b[0;34m\u001b[0m\u001b[0m\n\u001b[0m\u001b[1;32m    702\u001b[0m             \u001b[0mself\u001b[0m\u001b[0;34m.\u001b[0m\u001b[0m_num_yielded\u001b[0m \u001b[0;34m+=\u001b[0m \u001b[0;36m1\u001b[0m\u001b[0;34m\u001b[0m\u001b[0;34m\u001b[0m\u001b[0m\n\u001b[1;32m    703\u001b[0m             if (\n",
            "\u001b[0;32m/usr/local/lib/python3.10/dist-packages/torch/utils/data/dataloader.py\u001b[0m in \u001b[0;36m_next_data\u001b[0;34m(self)\u001b[0m\n\u001b[1;32m    755\u001b[0m     \u001b[0;32mdef\u001b[0m \u001b[0m_next_data\u001b[0m\u001b[0;34m(\u001b[0m\u001b[0mself\u001b[0m\u001b[0;34m)\u001b[0m\u001b[0;34m:\u001b[0m\u001b[0;34m\u001b[0m\u001b[0;34m\u001b[0m\u001b[0m\n\u001b[1;32m    756\u001b[0m         \u001b[0mindex\u001b[0m \u001b[0;34m=\u001b[0m \u001b[0mself\u001b[0m\u001b[0;34m.\u001b[0m\u001b[0m_next_index\u001b[0m\u001b[0;34m(\u001b[0m\u001b[0;34m)\u001b[0m  \u001b[0;31m# may raise StopIteration\u001b[0m\u001b[0;34m\u001b[0m\u001b[0;34m\u001b[0m\u001b[0m\n\u001b[0;32m--> 757\u001b[0;31m         \u001b[0mdata\u001b[0m \u001b[0;34m=\u001b[0m \u001b[0mself\u001b[0m\u001b[0;34m.\u001b[0m\u001b[0m_dataset_fetcher\u001b[0m\u001b[0;34m.\u001b[0m\u001b[0mfetch\u001b[0m\u001b[0;34m(\u001b[0m\u001b[0mindex\u001b[0m\u001b[0;34m)\u001b[0m  \u001b[0;31m# may raise StopIteration\u001b[0m\u001b[0;34m\u001b[0m\u001b[0;34m\u001b[0m\u001b[0m\n\u001b[0m\u001b[1;32m    758\u001b[0m         \u001b[0;32mif\u001b[0m \u001b[0mself\u001b[0m\u001b[0;34m.\u001b[0m\u001b[0m_pin_memory\u001b[0m\u001b[0;34m:\u001b[0m\u001b[0;34m\u001b[0m\u001b[0;34m\u001b[0m\u001b[0m\n\u001b[1;32m    759\u001b[0m             \u001b[0mdata\u001b[0m \u001b[0;34m=\u001b[0m \u001b[0m_utils\u001b[0m\u001b[0;34m.\u001b[0m\u001b[0mpin_memory\u001b[0m\u001b[0;34m.\u001b[0m\u001b[0mpin_memory\u001b[0m\u001b[0;34m(\u001b[0m\u001b[0mdata\u001b[0m\u001b[0;34m,\u001b[0m \u001b[0mself\u001b[0m\u001b[0;34m.\u001b[0m\u001b[0m_pin_memory_device\u001b[0m\u001b[0;34m)\u001b[0m\u001b[0;34m\u001b[0m\u001b[0;34m\u001b[0m\u001b[0m\n",
            "\u001b[0;32m/usr/local/lib/python3.10/dist-packages/torch/utils/data/_utils/fetch.py\u001b[0m in \u001b[0;36mfetch\u001b[0;34m(self, possibly_batched_index)\u001b[0m\n\u001b[1;32m     50\u001b[0m                 \u001b[0mdata\u001b[0m \u001b[0;34m=\u001b[0m \u001b[0mself\u001b[0m\u001b[0;34m.\u001b[0m\u001b[0mdataset\u001b[0m\u001b[0;34m.\u001b[0m\u001b[0m__getitems__\u001b[0m\u001b[0;34m(\u001b[0m\u001b[0mpossibly_batched_index\u001b[0m\u001b[0;34m)\u001b[0m\u001b[0;34m\u001b[0m\u001b[0;34m\u001b[0m\u001b[0m\n\u001b[1;32m     51\u001b[0m             \u001b[0;32melse\u001b[0m\u001b[0;34m:\u001b[0m\u001b[0;34m\u001b[0m\u001b[0;34m\u001b[0m\u001b[0m\n\u001b[0;32m---> 52\u001b[0;31m                 \u001b[0mdata\u001b[0m \u001b[0;34m=\u001b[0m \u001b[0;34m[\u001b[0m\u001b[0mself\u001b[0m\u001b[0;34m.\u001b[0m\u001b[0mdataset\u001b[0m\u001b[0;34m[\u001b[0m\u001b[0midx\u001b[0m\u001b[0;34m]\u001b[0m \u001b[0;32mfor\u001b[0m \u001b[0midx\u001b[0m \u001b[0;32min\u001b[0m \u001b[0mpossibly_batched_index\u001b[0m\u001b[0;34m]\u001b[0m\u001b[0;34m\u001b[0m\u001b[0;34m\u001b[0m\u001b[0m\n\u001b[0m\u001b[1;32m     53\u001b[0m         \u001b[0;32melse\u001b[0m\u001b[0;34m:\u001b[0m\u001b[0;34m\u001b[0m\u001b[0;34m\u001b[0m\u001b[0m\n\u001b[1;32m     54\u001b[0m             \u001b[0mdata\u001b[0m \u001b[0;34m=\u001b[0m \u001b[0mself\u001b[0m\u001b[0;34m.\u001b[0m\u001b[0mdataset\u001b[0m\u001b[0;34m[\u001b[0m\u001b[0mpossibly_batched_index\u001b[0m\u001b[0;34m]\u001b[0m\u001b[0;34m\u001b[0m\u001b[0;34m\u001b[0m\u001b[0m\n",
            "\u001b[0;32m/usr/local/lib/python3.10/dist-packages/torch/utils/data/_utils/fetch.py\u001b[0m in \u001b[0;36m<listcomp>\u001b[0;34m(.0)\u001b[0m\n\u001b[1;32m     50\u001b[0m                 \u001b[0mdata\u001b[0m \u001b[0;34m=\u001b[0m \u001b[0mself\u001b[0m\u001b[0;34m.\u001b[0m\u001b[0mdataset\u001b[0m\u001b[0;34m.\u001b[0m\u001b[0m__getitems__\u001b[0m\u001b[0;34m(\u001b[0m\u001b[0mpossibly_batched_index\u001b[0m\u001b[0;34m)\u001b[0m\u001b[0;34m\u001b[0m\u001b[0;34m\u001b[0m\u001b[0m\n\u001b[1;32m     51\u001b[0m             \u001b[0;32melse\u001b[0m\u001b[0;34m:\u001b[0m\u001b[0;34m\u001b[0m\u001b[0;34m\u001b[0m\u001b[0m\n\u001b[0;32m---> 52\u001b[0;31m                 \u001b[0mdata\u001b[0m \u001b[0;34m=\u001b[0m \u001b[0;34m[\u001b[0m\u001b[0mself\u001b[0m\u001b[0;34m.\u001b[0m\u001b[0mdataset\u001b[0m\u001b[0;34m[\u001b[0m\u001b[0midx\u001b[0m\u001b[0;34m]\u001b[0m \u001b[0;32mfor\u001b[0m \u001b[0midx\u001b[0m \u001b[0;32min\u001b[0m \u001b[0mpossibly_batched_index\u001b[0m\u001b[0;34m]\u001b[0m\u001b[0;34m\u001b[0m\u001b[0;34m\u001b[0m\u001b[0m\n\u001b[0m\u001b[1;32m     53\u001b[0m         \u001b[0;32melse\u001b[0m\u001b[0;34m:\u001b[0m\u001b[0;34m\u001b[0m\u001b[0;34m\u001b[0m\u001b[0m\n\u001b[1;32m     54\u001b[0m             \u001b[0mdata\u001b[0m \u001b[0;34m=\u001b[0m \u001b[0mself\u001b[0m\u001b[0;34m.\u001b[0m\u001b[0mdataset\u001b[0m\u001b[0;34m[\u001b[0m\u001b[0mpossibly_batched_index\u001b[0m\u001b[0;34m]\u001b[0m\u001b[0;34m\u001b[0m\u001b[0;34m\u001b[0m\u001b[0m\n",
            "\u001b[0;32m<ipython-input-14-944d491d0d17>\u001b[0m in \u001b[0;36m__getitem__\u001b[0;34m(self, idx)\u001b[0m\n\u001b[1;32m     22\u001b[0m \u001b[0;34m\u001b[0m\u001b[0m\n\u001b[1;32m     23\u001b[0m         \u001b[0;31m# Extract video features\u001b[0m\u001b[0;34m\u001b[0m\u001b[0;34m\u001b[0m\u001b[0m\n\u001b[0;32m---> 24\u001b[0;31m         \u001b[0mvideo_features\u001b[0m \u001b[0;34m=\u001b[0m \u001b[0mextract_video_features\u001b[0m\u001b[0;34m(\u001b[0m\u001b[0mvideo_path\u001b[0m\u001b[0;34m,\u001b[0m \u001b[0mnum_frames\u001b[0m\u001b[0;34m=\u001b[0m\u001b[0mself\u001b[0m\u001b[0;34m.\u001b[0m\u001b[0mnum_frames\u001b[0m\u001b[0;34m)\u001b[0m  \u001b[0;31m# Shape: (feature_dim)\u001b[0m\u001b[0;34m\u001b[0m\u001b[0;34m\u001b[0m\u001b[0m\n\u001b[0m\u001b[1;32m     25\u001b[0m \u001b[0;34m\u001b[0m\u001b[0m\n\u001b[1;32m     26\u001b[0m         \u001b[0;31m# Tokenize the caption as labels (target output)\u001b[0m\u001b[0;34m\u001b[0m\u001b[0;34m\u001b[0m\u001b[0m\n",
            "\u001b[0;32m<ipython-input-7-fdae8ff0c94f>\u001b[0m in \u001b[0;36mextract_video_features\u001b[0;34m(video_path, num_frames)\u001b[0m\n\u001b[1;32m     19\u001b[0m \u001b[0;31m# Extract features function\u001b[0m\u001b[0;34m\u001b[0m\u001b[0;34m\u001b[0m\u001b[0m\n\u001b[1;32m     20\u001b[0m \u001b[0;32mdef\u001b[0m \u001b[0mextract_video_features\u001b[0m\u001b[0;34m(\u001b[0m\u001b[0mvideo_path\u001b[0m\u001b[0;34m,\u001b[0m \u001b[0mnum_frames\u001b[0m\u001b[0;34m=\u001b[0m\u001b[0;36m16\u001b[0m\u001b[0;34m)\u001b[0m\u001b[0;34m:\u001b[0m\u001b[0;34m\u001b[0m\u001b[0;34m\u001b[0m\u001b[0m\n\u001b[0;32m---> 21\u001b[0;31m     \u001b[0mframes\u001b[0m \u001b[0;34m=\u001b[0m \u001b[0mextract_frames\u001b[0m\u001b[0;34m(\u001b[0m\u001b[0mvideo_path\u001b[0m\u001b[0;34m,\u001b[0m \u001b[0mnum_frames\u001b[0m\u001b[0;34m=\u001b[0m\u001b[0mnum_frames\u001b[0m\u001b[0;34m)\u001b[0m\u001b[0;34m\u001b[0m\u001b[0;34m\u001b[0m\u001b[0m\n\u001b[0m\u001b[1;32m     22\u001b[0m     \u001b[0mframe_tensors\u001b[0m \u001b[0;34m=\u001b[0m \u001b[0mtorch\u001b[0m\u001b[0;34m.\u001b[0m\u001b[0mstack\u001b[0m\u001b[0;34m(\u001b[0m\u001b[0;34m[\u001b[0m\u001b[0mpreprocess\u001b[0m\u001b[0;34m(\u001b[0m\u001b[0mframe\u001b[0m\u001b[0;34m)\u001b[0m \u001b[0;32mfor\u001b[0m \u001b[0mframe\u001b[0m \u001b[0;32min\u001b[0m \u001b[0mframes\u001b[0m\u001b[0;34m]\u001b[0m\u001b[0;34m)\u001b[0m\u001b[0;34m.\u001b[0m\u001b[0mto\u001b[0m\u001b[0;34m(\u001b[0m\u001b[0mdevice\u001b[0m\u001b[0;34m)\u001b[0m\u001b[0;34m\u001b[0m\u001b[0;34m\u001b[0m\u001b[0m\n\u001b[1;32m     23\u001b[0m     \u001b[0;32mwith\u001b[0m \u001b[0mtorch\u001b[0m\u001b[0;34m.\u001b[0m\u001b[0mno_grad\u001b[0m\u001b[0;34m(\u001b[0m\u001b[0;34m)\u001b[0m\u001b[0;34m:\u001b[0m\u001b[0;34m\u001b[0m\u001b[0;34m\u001b[0m\u001b[0m\n",
            "\u001b[0;32m<ipython-input-6-7143ae074dee>\u001b[0m in \u001b[0;36mextract_frames\u001b[0;34m(video_path, num_frames, resize)\u001b[0m\n\u001b[1;32m     15\u001b[0m     \u001b[0mframes\u001b[0m \u001b[0;34m=\u001b[0m \u001b[0;34m[\u001b[0m\u001b[0;34m]\u001b[0m\u001b[0;34m\u001b[0m\u001b[0;34m\u001b[0m\u001b[0m\n\u001b[1;32m     16\u001b[0m     \u001b[0;32mfor\u001b[0m \u001b[0midx\u001b[0m \u001b[0;32min\u001b[0m \u001b[0mframe_indices\u001b[0m\u001b[0;34m:\u001b[0m\u001b[0;34m\u001b[0m\u001b[0;34m\u001b[0m\u001b[0m\n\u001b[0;32m---> 17\u001b[0;31m         \u001b[0mcap\u001b[0m\u001b[0;34m.\u001b[0m\u001b[0mset\u001b[0m\u001b[0;34m(\u001b[0m\u001b[0mcv2\u001b[0m\u001b[0;34m.\u001b[0m\u001b[0mCAP_PROP_POS_FRAMES\u001b[0m\u001b[0;34m,\u001b[0m \u001b[0midx\u001b[0m\u001b[0;34m)\u001b[0m\u001b[0;34m\u001b[0m\u001b[0;34m\u001b[0m\u001b[0m\n\u001b[0m\u001b[1;32m     18\u001b[0m         \u001b[0mret\u001b[0m\u001b[0;34m,\u001b[0m \u001b[0mframe\u001b[0m \u001b[0;34m=\u001b[0m \u001b[0mcap\u001b[0m\u001b[0;34m.\u001b[0m\u001b[0mread\u001b[0m\u001b[0;34m(\u001b[0m\u001b[0;34m)\u001b[0m\u001b[0;34m\u001b[0m\u001b[0;34m\u001b[0m\u001b[0m\n\u001b[1;32m     19\u001b[0m         \u001b[0;32mif\u001b[0m \u001b[0mret\u001b[0m\u001b[0;34m:\u001b[0m\u001b[0;34m\u001b[0m\u001b[0;34m\u001b[0m\u001b[0m\n",
            "\u001b[0;31mKeyboardInterrupt\u001b[0m: "
          ]
        }
      ],
      "source": [
        "%%time\n",
        "accelerator = Accelerator()\n",
        "\n",
        "# Initialization\n",
        "optimizer = torch.optim.AdamW(model.parameters(), lr=2e-4)\n",
        "\n",
        "# Model, optimizer, and data loaders\n",
        "model, optimizer, train_dataloader, test_dataloader = accelerator.prepare(\n",
        "    model,\n",
        "    optimizer,\n",
        "    train_dataloader,\n",
        "    test_dataloader\n",
        ")\n",
        "\n",
        "num_epochs = 50  \n",
        "train_loss_history = []\n",
        "test_loss_history = []\n",
        "# best_test_loss = float('inf')\n",
        "# early_stopping_patience = 5\n",
        "# epochs_no_improve = 0\n",
        "\n",
        "for epoch in range(num_epochs):\n",
        "    # Training phase\n",
        "    model.train()\n",
        "    total_loss = 0\n",
        "    if accelerator.is_main_process:\n",
        "        start_time = time.time()\n",
        "    for batch_idx, batch in enumerate(train_dataloader):\n",
        "        video_features = batch['video_features'].float()\n",
        "        input_ids = batch['input_ids']\n",
        "        attention_mask = batch['attention_mask']\n",
        "        labels = batch['labels']\n",
        "\n",
        "\n",
        "        optimizer.zero_grad()\n",
        "\n",
        "        # Forward pass\n",
        "        outputs = model(\n",
        "            video_features=video_features,\n",
        "            input_ids=input_ids,\n",
        "            attention_mask=attention_mask,\n",
        "            labels=labels\n",
        "        )\n",
        "\n",
        "        loss = outputs.loss\n",
        "        if isinstance(loss, torch.Tensor):\n",
        "            loss = loss.mean()  \n",
        "        total_loss += loss.item()\n",
        "\n",
        "        # Backward pass and optimization\n",
        "        accelerator.backward(loss)\n",
        "        optimizer.step()\n",
        "\n",
        "        if (batch_idx + 1) % 200 == 0 and accelerator.is_local_main_process:\n",
        "            print(f\"Batch {batch_idx+1}/{len(train_dataloader)}, Training Loss: {loss.item()}\")\n",
        "\n",
        "    avg_train_loss = total_loss / len(train_dataloader)\n",
        "    train_loss_history.append(avg_train_loss)\n",
        "\n",
        "    # Evaluation phase\n",
        "    model.eval()\n",
        "    total_test_loss = 0\n",
        "    with torch.no_grad():\n",
        "        for batch_idx, batch in enumerate(test_dataloader):\n",
        "            video_features = batch['video_features'].float()\n",
        "            input_ids = batch['input_ids']\n",
        "            attention_mask = batch['attention_mask']\n",
        "            labels = batch['labels']\n",
        "\n",
        "            \n",
        "            outputs = model(\n",
        "                video_features=video_features,\n",
        "                input_ids=input_ids,\n",
        "                attention_mask=attention_mask,\n",
        "                labels=labels\n",
        "            )\n",
        "\n",
        "            test_loss = outputs.loss\n",
        "            if isinstance(test_loss, torch.Tensor):\n",
        "                test_loss = test_loss.mean()  \n",
        "            total_test_loss += test_loss.item()\n",
        "\n",
        "    avg_test_loss = total_test_loss / len(test_dataloader)\n",
        "    test_loss_history.append(avg_test_loss)\n",
        "\n",
        "    # Early Stopping Check\n",
        "    # if avg_test_loss < best_test_loss:\n",
        "    #     best_test_loss = avg_test_loss\n",
        "    #     epochs_no_improve = 0\n",
        "    #     if accelerator.is_main_process:\n",
        "    #         unwrapped_model = accelerator.unwrap_model(model)\n",
        "    #         torch.save(unwrapped_model.state_dict(), \"best_model.pth\")\n",
        "    # else:\n",
        "    #     epochs_no_improve += 1\n",
        "    #     if epochs_no_improve >= early_stopping_patience and accelerator.is_main_process:\n",
        "    #         print(\"Early stopping triggered.\")\n",
        "    #         break\n",
        "\n",
        "    if accelerator.is_main_process:\n",
        "        torch.cuda.synchronize()  # Ensure all operations are complete\n",
        "        end_time = time.time()\n",
        "        print(f\"Epoch {epoch+1}, \"\n",
        "              f\"Average Training Loss: {avg_train_loss:.4f}, \"\n",
        "              f\"Average Test Loss: {avg_test_loss:.4f}, \"\n",
        "              f\"Time Elapsed: {end_time - start_time:.2f} seconds\")\n",
        "\n",
        "print(\"Training complete.\")\n"
      ]
    },
    {
      "cell_type": "code",
      "execution_count": 17,
      "metadata": {
        "colab": {
          "base_uri": "https://localhost:8080/"
        },
        "execution": {
          "iopub.execute_input": "2024-12-18T20:52:04.708982Z",
          "iopub.status.busy": "2024-12-18T20:52:04.708587Z",
          "iopub.status.idle": "2024-12-18T20:52:11.332629Z",
          "shell.execute_reply": "2024-12-18T20:52:11.331642Z",
          "shell.execute_reply.started": "2024-12-18T20:52:04.708949Z"
        },
        "id": "WImuQ8NOcIbi",
        "outputId": "994fe08e-8b37-4fc2-dde9-8f0fa3aecba6",
        "trusted": true
      },
      "outputs": [
        {
          "name": "stdout",
          "output_type": "stream",
          "text": [
            "Video 1:\n",
            "True Caption: a group of people are being talked to by a man outdoors\n",
            "Generated Caption: a group of people are having a meeting in a restaurant\n",
            "\n",
            "Video 2:\n",
            "True Caption: there is a big man dancing on the floor\n",
            "Generated Caption: a man demonstrating how to set a path to a music folder\n",
            "\n",
            "Video 3:\n",
            "True Caption: a man in a blue tee shirt with white writing gets on a red motorcycle and drives away\n",
            "Generated Caption: a car drives down a road\n",
            "\n",
            "Video 4:\n",
            "True Caption: a group of men giving a speech about the importance of physics and engineering\n",
            "Generated Caption: a clip of a man and a woman talking with each other\n",
            "\n",
            "Video 5:\n",
            "True Caption: a man wearing a black shirt and jeans sitting in his room  is talking with another man in a suit and red tie\n",
            "Generated Caption: a man in white shirt talking with a man in white shirt\n",
            "\n",
            "Video 6:\n",
            "True Caption: a youtube video where children react to things\n",
            "Generated Caption: a clip from a movie is playing\n",
            "\n",
            "Video 7:\n",
            "True Caption: a group is dancing\n",
            "Generated Caption: a man is talking about a game he is talking about\n",
            "\n",
            "Video 8:\n",
            "True Caption: a boy is selected in a singing competition\n",
            "Generated Caption: a band is performing a song\n",
            "\n",
            "Video 9:\n",
            "True Caption: a band performs\n",
            "Generated Caption: a band is performing a song\n",
            "\n",
            "Video 10:\n",
            "True Caption: a cartoon character prepares to battle a villain\n",
            "Generated Caption: a cartoon video game is being played\n",
            "\n"
          ]
        }
      ],
      "source": [
        "def generate_caption(model, tokenizer, video_path, clip_model, device, num_frames=16, max_length=20):\n",
        "    model.eval()\n",
        "    with torch.no_grad():\n",
        "        # Extract video features\n",
        "        video_features = extract_video_features(video_path, num_frames=num_frames).to(device).float()\n",
        "\n",
        "        if model.decoder.config.decoder_start_token_id is None:\n",
        "            model.decoder.config.decoder_start_token_id = tokenizer.pad_token_id\n",
        "\n",
        "        input_ids = torch.tensor([[tokenizer.pad_token_id]]).to(device)\n",
        "        attention_mask = torch.ones_like(input_ids).to(device)\n",
        "\n",
        "        text_embeddings = model.decoder.get_input_embeddings()(input_ids)  \n",
        "\n",
        "        # Process video features\n",
        "        mapped_features = model.relu(model.linear(video_features.unsqueeze(0)))\n",
        "        mapped_features = mapped_features.view(1, model.seq_length, model.hidden_dim)  \n",
        "\n",
        "        if mapped_features.size(1) != text_embeddings.size(1):\n",
        "            mapped_features = torch.nn.functional.interpolate(\n",
        "                mapped_features.unsqueeze(0),\n",
        "                size=(text_embeddings.size(1), mapped_features.size(2))\n",
        "            ).squeeze(0)\n",
        "\n",
        "        # Combine embeddings\n",
        "        combined_embeddings = torch.cat((text_embeddings, mapped_features), dim=-1)  \n",
        "        combined_embeddings = model.proj(combined_embeddings) \n",
        "        updated_attention_mask = torch.ones(combined_embeddings.size()[:2], dtype=torch.long).to(device)\n",
        "\n",
        "        encoder_outputs = model.decoder.encoder(\n",
        "            inputs_embeds=combined_embeddings,\n",
        "            attention_mask=updated_attention_mask\n",
        "        )\n",
        "\n",
        "        # Generate tokens\n",
        "        generated_ids = model.decoder.generate(\n",
        "            encoder_outputs=encoder_outputs,\n",
        "            max_length=64,\n",
        "            num_beams=5,\n",
        "            early_stopping=True,\n",
        "            do_sample=True,\n",
        "            top_p=0.9,\n",
        "            top_k=80,\n",
        "            temperature=1.0,\n",
        "        )\n",
        "\n",
        "        caption = tokenizer.decode(generated_ids[0], skip_special_tokens=True)\n",
        "        return caption\n",
        "\n",
        "# Inference :\n",
        "for idx in range(10):\n",
        "    video_path = test_captions_df.iloc[idx]['video_path']\n",
        "    true_caption = test_captions_df.iloc[idx]['caption']\n",
        "    generated_caption = generate_caption(model, tokenizer, video_path, clip_model, device)\n",
        "    print(f\"Video {idx+1}:\")\n",
        "    print(f\"True Caption: {true_caption}\")\n",
        "    print(f\"Generated Caption: {generated_caption}\\n\")\n"
      ]
    },
    {
      "cell_type": "code",
      "execution_count": 18,
      "metadata": {
        "colab": {
          "base_uri": "https://localhost:8080/",
          "height": 564
        },
        "id": "pwBkNxIZgU4d",
        "outputId": "2b21504f-2969-4070-8d56-e34ade49a509"
      },
      "outputs": [
        {
          "data": {
            "image/png": "[encoded data removed]",
            "text/plain": [
              "<Figure size 800x600 with 1 Axes>"
            ]
          },
          "metadata": {},
          "output_type": "display_data"
        }
      ],
      "source": [
        "import matplotlib.pyplot as plt\n",
        "\n",
        "# Plot\n",
        "plt.figure(figsize=(8, 6))\n",
        "plt.plot(train_loss_history, label='Training Loss')\n",
        "plt.plot(test_loss_history, label='Test Loss')\n",
        "plt.title('Training and Test Loss Over Epochs')\n",
        "plt.xlabel('Epoch')\n",
        "plt.ylabel('Loss')\n",
        "plt.legend()\n",
        "plt.grid(True)\n",
        "plt.show()"
      ]
    }
  ],
  "metadata": {
    "accelerator": "GPU",
    "colab": {
      "gpuType": "A100",
      "machine_shape": "hm",
      "provenance": []
    },
    "kaggle": {
      "accelerator": "nvidiaTeslaT4",
      "dataSources": [
        {
          "datasetId": 2612443,
          "sourceId": 4463091,
          "sourceType": "datasetVersion"
        }
      ],
      "dockerImageVersionId": 30805,
      "isGpuEnabled": true,
      "isInternetEnabled": true,
      "language": "python",
      "sourceType": "notebook"
    },
    "kernelspec": {
      "display_name": "Python 3",
      "language": "python",
      "name": "python3"
    },
    "language_info": {
      "codemirror_mode": {
        "name": "ipython",
        "version": 3
      },
      "file_extension": ".py",
      "mimetype": "text/x-python",
      "name": "python",
      "nbconvert_exporter": "python",
      "pygments_lexer": "ipython3",
      "version": "3.10.14"
    }
  },
  "nbformat": 4,
  "nbformat_minor": 0
}